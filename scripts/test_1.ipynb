{
 "cells": [
  {
   "cell_type": "code",
   "execution_count": 1,
   "metadata": {},
   "outputs": [
    {
     "name": "stdout",
     "output_type": "stream",
     "text": [
      "Please put a natural number, here. ==> 52\n",
      "52 is not prime number.\n"
     ]
    }
   ],
   "source": [
    "given = input('Please put a natural number, here. ==> ')\n",
    "if not given.isnumeric():\n",
    "    print(\"Your input is not a natural number. Please put just a natural number, next time.\")\n",
    "else:\n",
    "    givenNumber = int(given)\n",
    "    if givenNumber < 2 :\n",
    "        print(given + ' is not prime number.')\n",
    "    else:\n",
    "        for divider in range(2,givenNumber):\n",
    "            if (givenNumber % divider) == 0 :\n",
    "                print(given + ' is not prime number.')\n",
    "                break\n",
    "        else:\n",
    "            print(given + ' is prime number.')\n"
   ]
  },
  {
   "cell_type": "code",
   "execution_count": 2,
   "metadata": {},
   "outputs": [
    {
     "name": "stdout",
     "output_type": "stream",
     "text": [
      "Please put a natural number, here. ==> 22\n",
      "22 is not prime number.\n"
     ]
    }
   ],
   "source": [
    "given = input('Please put a natural number, here. ==> ')\n",
    "if not given.isnumeric():\n",
    "    print(\"Your input is not a natural number. Please put just a natural number, next time.\")\n",
    "else:\n",
    "    givenNumber = int(given)\n",
    "    if givenNumber < 2 :\n",
    "        print(given + ' is not prime number.')\n",
    "    else:\n",
    "        for divider in range(2,givenNumber):\n",
    "            if (givenNumber % divider) == 0 :\n",
    "                print(given + ' is not prime number.')\n",
    "                break\n",
    "        else:\n",
    "            print(given + ' is prime number.')\n",
    "\n"
   ]
  },
  {
   "cell_type": "code",
   "execution_count": null,
   "metadata": {},
   "outputs": [],
   "source": []
  }
 ],
 "metadata": {
  "kernelspec": {
   "display_name": "Python 3",
   "language": "python",
   "name": "python3"
  },
  "language_info": {
   "codemirror_mode": {
    "name": "ipython",
    "version": 3
   },
   "file_extension": ".py",
   "mimetype": "text/x-python",
   "name": "python",
   "nbconvert_exporter": "python",
   "pygments_lexer": "ipython3",
   "version": "3.6.4"
  }
 },
 "nbformat": 4,
 "nbformat_minor": 2
}
